{
 "cells": [
  {
   "cell_type": "markdown",
   "id": "ed6c072e",
   "metadata": {},
   "source": [
    "**Task Description:**\n",
    "\n",
    "Create a Python program that simulates a computer's attempts to guess a secret number chosen randomly between 1 and 100,000. The program offers two modes of guessing:\n",
    "\n",
    "**Random Guess Mode:** In this mode (mode 1), the computer makes random guesses within the given range and adjusts its guesses based on whether they are too high or too low compared to the secret number.\n",
    "\n",
    "**Binary Search Mode:** In this mode (mode 2), the computer employs a binary search algorithm to systematically narrow down its guesses by always choosing the midpoint of the current search range.\n",
    "\n",
    "The program keeps track of the number of attempts made by the computer and plots the progress of the guesses over the attempts using Matplotlib. It updates the plot in real-time as the computer makes guesses.\n",
    "\n",
    "**The main components and features of the code include:**\n",
    "- Randomly generating a secret number between 1 and 100,000.\n",
    "- A guess() function that takes the mode as input (1 for random guess, 2 for binary search).\n",
    "- Tracking the computer's attempts and guesses and storing them in lists for plotting.\n",
    "- Handling messages to inform whether the computer's guess was too high or too low.\n",
    "- Continuously updating and displaying a plot of the computer's guesses over attempts.\n",
    "- Allowing the user to choose between the two modes (random guess or binary search) and passing the selected mode to the guess() function.\n",
    "\n",
    "**To use the program:**\n",
    "1. Run the code.\n",
    "2. Choose a mode (1 for random guess or 2 for binary search) when prompted.\n",
    "3. Watch the computer make guesses and see the plot of its progress in real-time.\n",
    "4. The program will terminate when the computer successfully guesses the secret number, and you'll see the number of attempts it took.\n",
    "\n",
    "Note: The program uses Matplotlib for plotting and clears the output and updates the plot after each guess, providing a dynamic visualization of the guessing process.\n"
   ]
  },
  {
   "cell_type": "markdown",
   "id": "fc18e817",
   "metadata": {},
   "source": [
    "### Import Necessary Libraries"
   ]
  },
  {
   "cell_type": "code",
   "execution_count": null,
   "id": "97f40926",
   "metadata": {},
   "outputs": [],
   "source": [
    "import random\n",
    "import matplotlib.pyplot as plt\n",
    "import time\n",
    "from IPython.display import clear_output"
   ]
  },
  {
   "cell_type": "code",
   "execution_count": 34,
   "id": "7e4b45dd",
   "metadata": {},
   "outputs": [
    {
     "ename": "ModuleNotFoundError",
     "evalue": "No module named 'torch'",
     "output_type": "error",
     "traceback": [
      "\u001b[31m---------------------------------------------------------------------------\u001b[39m",
      "\u001b[31mModuleNotFoundError\u001b[39m                       Traceback (most recent call last)",
      "\u001b[36mCell\u001b[39m\u001b[36m \u001b[39m\u001b[32mIn[34]\u001b[39m\u001b[32m, line 1\u001b[39m\n\u001b[32m----> \u001b[39m\u001b[32m1\u001b[39m \u001b[38;5;28;01mimport\u001b[39;00m\u001b[38;5;250m \u001b[39m\u001b[34;01mtorch\u001b[39;00m\n\u001b[32m      3\u001b[39m \u001b[38;5;66;03m# Example: Move data to GPU and perform computation if CUDA is available\u001b[39;00m\n\u001b[32m      4\u001b[39m \u001b[38;5;28;01mif\u001b[39;00m torch.cuda.is_available():\n",
      "\u001b[31mModuleNotFoundError\u001b[39m: No module named 'torch'"
     ]
    }
   ],
   "source": [
    "import torch\n",
    "\n",
    "# Example: Move data to GPU and perform computation if CUDA is available\n",
    "if torch.cuda.is_available():\n",
    "    device = torch.device('cuda')\n",
    "    print(\"Using GPU:\", torch.cuda.get_device_name(0))\n",
    "else:\n",
    "    device = torch.device('cpu')\n",
    "    print(\"GPU not available, using CPU.\")\n",
    "\n",
    "# Create a tensor and move it to the selected device\n",
    "x = torch.arange(SECRET_MIN, SECRET_MAX + 1, dtype=torch.float32, device=device)\n",
    "# Example operation: sum all elements\n",
    "result = x.sum()\n",
    "print(\"Sum of numbers from\", SECRET_MIN, \"to\", SECRET_MAX, \"is:\", result.item())"
   ]
  },
  {
   "cell_type": "markdown",
   "id": "9b9eb59a",
   "metadata": {},
   "source": [
    "### Define Constants"
   ]
  },
  {
   "cell_type": "code",
   "execution_count": null,
   "id": "2d353730",
   "metadata": {},
   "outputs": [],
   "source": [
    "SECRET_MIN = 1\n",
    "SECRET_MAX = 100_000"
   ]
  },
  {
   "cell_type": "markdown",
   "id": "19f6a827",
   "metadata": {},
   "source": [
    "### Define the Guessing Function"
   ]
  },
  {
   "cell_type": "code",
   "execution_count": null,
   "id": "e0dc55ab",
   "metadata": {},
   "outputs": [],
   "source": [
    "def guess(mode):\n",
    "    secret = random.randint(SECRET_MIN, SECRET_MAX)\n",
    "    attempts = 0\n",
    "    guesses = []\n",
    "    attempt_nums = []\n",
    "    found = False\n",
    "    report_lines = []\n",
    "    low = SECRET_MIN\n",
    "    high = SECRET_MAX\n",
    "    used_guesses = set()\n",
    "    while not found:\n",
    "        if mode == 1:\n",
    "            # Totally random, may repeat guesses\n",
    "            g = random.randint(SECRET_MIN, SECRET_MAX)\n",
    "        elif mode == 2:\n",
    "            # Binary search mode, always halves the range, no repeats\n",
    "            if low > high:\n",
    "                print(\"Error: Range exhausted without finding the secret number.\")\n",
    "                break\n",
    "            g = (low + high) // 2\n",
    "            if g in used_guesses:\n",
    "                # Should not happen, but just in case\n",
    "                print(\"Error: Binary search guess repeated.\")\n",
    "                break\n",
    "            used_guesses.add(g)\n",
    "        else:\n",
    "            print(\"Invalid mode. Use 1 for random, 2 for binary search.\")\n",
    "            return\n",
    "        attempts += 1\n",
    "        guesses.append(g)\n",
    "        attempt_nums.append(attempts)\n",
    "        plt.figure(figsize=(8,4))\n",
    "        plt.plot(attempt_nums, guesses, marker='o', linestyle='-', color='b', label='Guesses')\n",
    "        plt.axhline(secret, color='r', linestyle='--', label='Secret Number')\n",
    "        plt.xlabel('Attempt')\n",
    "        plt.ylabel('Guess')\n",
    "        plt.title(f'Guessing the Secret Number (Attempt {attempts})')\n",
    "        plt.legend()\n",
    "        plt.grid(True)\n",
    "        plt.tight_layout()\n",
    "        plt.show()\n",
    "        clear_output(wait=True)\n",
    "        time.sleep(0.2)\n",
    "        if g == secret:\n",
    "            msg = f\"Guessed the secret number {secret} in {attempts} attempts!\"\n",
    "            print(msg)\n",
    "            report_lines.append(msg)\n",
    "            found = True\n",
    "        elif g < secret:\n",
    "            msg = f\"Attempt {attempts}: {g} is too low.\"\n",
    "            print(msg)\n",
    "            report_lines.append(msg)\n",
    "            if mode == 2:\n",
    "                low = g + 1\n",
    "        else:\n",
    "            msg = f\"Attempt {attempts}: {g} is too high.\"\n",
    "            print(msg)\n",
    "            report_lines.append(msg)\n",
    "            if mode == 2:\n",
    "                high = g - 1\n",
    "    # Show the final plot after the loop\n",
    "    plt.figure(figsize=(8,4))\n",
    "    plt.plot(attempt_nums, guesses, marker='o', linestyle='-', color='b', label='Guesses')\n",
    "    plt.axhline(secret, color='r', linestyle='--', label='Secret Number')\n",
    "    plt.xlabel('Attempt')\n",
    "    plt.ylabel('Guess')\n",
    "    plt.title(f'Final Guessing Progress ({attempts} Attempts)')\n",
    "    plt.legend()\n",
    "    plt.grid(True)\n",
    "    plt.tight_layout()\n",
    "    plt.show()\n",
    "    # Show the report\n",
    "    print(\"\\n--- Guessing Report ---\")\n",
    "    for line in report_lines:\n",
    "        print(line)"
   ]
  },
  {
   "cell_type": "markdown",
   "id": "986da01f",
   "metadata": {},
   "source": [
    "### Run the Simulation"
   ]
  },
  {
   "cell_type": "code",
   "execution_count": null,
   "id": "d6a39079",
   "metadata": {},
   "outputs": [],
   "source": [
    "print(\"Choose mode:\")\n",
    "print(\"1 - Random Guess Mode\")\n",
    "print(\"2 - Binary Search Mode\")\n",
    "mode = int(input(\"Enter mode (1 or 2): \"))\n",
    "guess(mode)"
   ]
  }
 ],
 "metadata": {
  "kernelspec": {
   "display_name": "Python 3",
   "language": "python",
   "name": "python3"
  },
  "language_info": {
   "codemirror_mode": {
    "name": "ipython",
    "version": 3
   },
   "file_extension": ".py",
   "mimetype": "text/x-python",
   "name": "python",
   "nbconvert_exporter": "python",
   "pygments_lexer": "ipython3",
   "version": "3.11.7"
  }
 },
 "nbformat": 4,
 "nbformat_minor": 5
}
